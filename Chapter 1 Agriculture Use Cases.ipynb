{
 "cells": [
  {
   "cell_type": "markdown",
   "id": "905e36d1-6c6c-429e-bafa-f056110c0fee",
   "metadata": {
    "tags": []
   },
   "source": [
    "## Optimizing Water and Fertilizer Usage using Random Forest Regressor\n"
   ]
  },
  {
   "cell_type": "markdown",
   "id": "df6fa394-6588-4ac1-bdbc-8c4d1b777d2d",
   "metadata": {},
   "source": [
    "### Explanation\n",
    "- **Data Collection:** Drones, satellites, and IoT sensors collect imagery and environmental data such as soil moisture, nitrogen levels, temperature, humidity, and rainfall.\n",
    "- **Data Processing:** The data is processed using libraries like OpenCV and TensorFlow for image analysis, and pandas for data cleaning.\n",
    "- **Model Development:** A Random Forest Regressor is trained to predict crop types based on environmental data, which can then be used to optimize resource allocation.\n",
    "- **Feature Importance Graph:** The feature importance graph shows the relative importance of each feature in predicting the crop type.\n",
    "- **Implementation:** A function recommend_resources uses the trained model to recommend water and fertilizer usage based on current environmental conditions."
   ]
  },
  {
   "cell_type": "markdown",
   "id": "3fbd90ee-5fc7-4a80-8658-36da25f6dbf8",
   "metadata": {},
   "source": [
    "Below if a code to create the dataset:"
   ]
  },
  {
   "cell_type": "code",
   "execution_count": 4,
   "id": "bf1caab9-b893-4dcf-b8f9-f2e2294085bf",
   "metadata": {
    "tags": []
   },
   "outputs": [
    {
     "data": {
      "text/html": [
       "<div>\n",
       "<style scoped>\n",
       "    .dataframe tbody tr th:only-of-type {\n",
       "        vertical-align: middle;\n",
       "    }\n",
       "\n",
       "    .dataframe tbody tr th {\n",
       "        vertical-align: top;\n",
       "    }\n",
       "\n",
       "    .dataframe thead th {\n",
       "        text-align: right;\n",
       "    }\n",
       "</style>\n",
       "<table border=\"1\" class=\"dataframe\">\n",
       "  <thead>\n",
       "    <tr style=\"text-align: right;\">\n",
       "      <th></th>\n",
       "      <th>Soil_Moisture</th>\n",
       "      <th>Soil_Nitrogen</th>\n",
       "      <th>Temperature</th>\n",
       "      <th>Humidity</th>\n",
       "      <th>Rainfall</th>\n",
       "      <th>Crop_Type</th>\n",
       "    </tr>\n",
       "  </thead>\n",
       "  <tbody>\n",
       "    <tr>\n",
       "      <th>0</th>\n",
       "      <td>21.236204</td>\n",
       "      <td>1.434102</td>\n",
       "      <td>29.599966</td>\n",
       "      <td>68.288674</td>\n",
       "      <td>5.978241</td>\n",
       "      <td>Wheat</td>\n",
       "    </tr>\n",
       "    <tr>\n",
       "      <th>1</th>\n",
       "      <td>38.521429</td>\n",
       "      <td>1.332280</td>\n",
       "      <td>18.690240</td>\n",
       "      <td>57.557547</td>\n",
       "      <td>1.896356</td>\n",
       "      <td>Corn</td>\n",
       "    </tr>\n",
       "    <tr>\n",
       "      <th>2</th>\n",
       "      <td>31.959818</td>\n",
       "      <td>0.940385</td>\n",
       "      <td>21.932794</td>\n",
       "      <td>87.869911</td>\n",
       "      <td>2.527184</td>\n",
       "      <td>Corn</td>\n",
       "    </tr>\n",
       "    <tr>\n",
       "      <th>3</th>\n",
       "      <td>27.959755</td>\n",
       "      <td>2.018167</td>\n",
       "      <td>28.265613</td>\n",
       "      <td>43.138707</td>\n",
       "      <td>3.613423</td>\n",
       "      <td>Corn</td>\n",
       "    </tr>\n",
       "    <tr>\n",
       "      <th>4</th>\n",
       "      <td>14.680559</td>\n",
       "      <td>1.691560</td>\n",
       "      <td>24.641787</td>\n",
       "      <td>65.271385</td>\n",
       "      <td>4.073067</td>\n",
       "      <td>Wheat</td>\n",
       "    </tr>\n",
       "  </tbody>\n",
       "</table>\n",
       "</div>"
      ],
      "text/plain": [
       "   Soil_Moisture  Soil_Nitrogen  Temperature   Humidity  Rainfall Crop_Type\n",
       "0      21.236204       1.434102    29.599966  68.288674  5.978241     Wheat\n",
       "1      38.521429       1.332280    18.690240  57.557547  1.896356      Corn\n",
       "2      31.959818       0.940385    21.932794  87.869911  2.527184      Corn\n",
       "3      27.959755       2.018167    28.265613  43.138707  3.613423      Corn\n",
       "4      14.680559       1.691560    24.641787  65.271385  4.073067     Wheat"
      ]
     },
     "execution_count": 4,
     "metadata": {},
     "output_type": "execute_result"
    }
   ],
   "source": [
    "import pandas as pd\n",
    "import numpy as np\n",
    "import matplotlib.pyplot as plt\n",
    "\n",
    "# Create a random dataset for soil health, weather, and crop type\n",
    "np.random.seed(42)  # For reproducibility\n",
    "\n",
    "data_size = 10000\n",
    "\n",
    "data = {\n",
    "    'Soil_Moisture': np.random.uniform(10, 40, data_size),  # Soil moisture percentage\n",
    "    'Soil_Nitrogen': np.random.uniform(0.5, 3.0, data_size),  # Nitrogen level in soil\n",
    "    'Temperature': np.random.uniform(15, 35, data_size),  # Temperature in Celsius\n",
    "    'Humidity': np.random.uniform(30, 90, data_size),  # Humidity percentage\n",
    "    'Rainfall': np.random.uniform(0, 20, data_size),  # Rainfall in mm\n",
    "    'Crop_Type': np.random.choice(['Wheat', 'Corn', 'Rice'], data_size)  # Type of crop\n",
    "}\n",
    "\n",
    "# Convert to DataFrame\n",
    "df = pd.DataFrame(data)\n",
    "df.head(5)"
   ]
  },
  {
   "cell_type": "code",
   "execution_count": 5,
   "id": "450028f5-7b82-434d-b96f-f1f5e16b617e",
   "metadata": {
    "tags": []
   },
   "outputs": [
    {
     "name": "stdout",
     "output_type": "stream",
     "text": [
      "Mean Absolute Error: 0.710235\n",
      "Recommended water usage: 20 liters/ha\n",
      "Recommended fertilizer usage: 30 kg/ha\n"
     ]
    },
    {
     "name": "stderr",
     "output_type": "stream",
     "text": [
      "C:\\Users\\victo\\anaconda\\Lib\\site-packages\\sklearn\\base.py:439: UserWarning: X does not have valid feature names, but RandomForestRegressor was fitted with feature names\n",
      "  warnings.warn(\n"
     ]
    }
   ],
   "source": [
    "from sklearn.ensemble import RandomForestRegressor\n",
    "from sklearn.model_selection import train_test_split\n",
    "from sklearn.metrics import mean_absolute_error\n",
    "import matplotlib.pyplot as plt\n",
    "\n",
    "# Features and target variable\n",
    "features = df[['Soil_Moisture', 'Soil_Nitrogen', 'Temperature', 'Humidity', 'Rainfall']]\n",
    "target = df['Crop_Type']\n",
    "\n",
    "# Convert categorical target variable to numeric\n",
    "target = target.astype('category').cat.codes\n",
    "\n",
    "# Split the data into training and testing sets\n",
    "X_train, X_test, y_train, y_test = train_test_split(features, target, test_size=0.2, random_state=42)\n",
    "\n",
    "# Train a Random Forest model\n",
    "model = RandomForestRegressor(n_estimators=100, random_state=42)\n",
    "model.fit(X_train, y_train)\n",
    "\n",
    "# Predict on the test set\n",
    "predictions = model.predict(X_test)\n",
    "\n",
    "# Evaluate the model\n",
    "mae = mean_absolute_error(y_test, predictions)\n",
    "print(f'Mean Absolute Error: {mae}')\n",
    "\n",
    "\n",
    "# Function to recommend water and fertilizer usage\n",
    "def recommend_resources(soil_moisture, soil_nitrogen, temperature, humidity, rainfall):\n",
    "    input_data = np.array([[soil_moisture, soil_nitrogen, temperature, humidity, rainfall]])\n",
    "    crop_type = model.predict(input_data)[0]\n",
    "    \n",
    "    recommendations = {\n",
    "        0: {'water': '20 liters/ha', 'fertilizer': '30 kg/ha'},  # Wheat\n",
    "        1: {'water': '25 liters/ha', 'fertilizer': '40 kg/ha'},  # Corn\n",
    "        2: {'water': '30 liters/ha', 'fertilizer': '50 kg/ha'}   # Rice\n",
    "    }\n",
    "    \n",
    "    return recommendations[int(crop_type)]\n",
    "\n",
    "# Example usage\n",
    "soil_moisture = 25.0\n",
    "soil_nitrogen = 2.0\n",
    "temperature = 20.0\n",
    "humidity = 60.0\n",
    "rainfall = 10.0\n",
    "\n",
    "recommendation = recommend_resources(soil_moisture, soil_nitrogen, temperature, humidity, rainfall)\n",
    "print(f'Recommended water usage: {recommendation[\"water\"]}')\n",
    "print(f'Recommended fertilizer usage: {recommendation[\"fertilizer\"]}')"
   ]
  },
  {
   "cell_type": "code",
   "execution_count": 6,
   "id": "8972da98-9ae1-44a8-ad14-4043f9961355",
   "metadata": {},
   "outputs": [
    {
     "data": {
      "image/png": "[encoded data removed]",
      "text/plain": [
       "<Figure size 1000x600 with 1 Axes>"
      ]
     },
     "metadata": {},
     "output_type": "display_data"
    }
   ],
   "source": [
    "# Plot feature importance\n",
    "feature_importances = model.feature_importances_\n",
    "features_names = features.columns\n",
    "\n",
    "plt.figure(figsize=(10, 6))\n",
    "plt.bar(features_names, feature_importances)\n",
    "plt.xlabel('Feature Importance')\n",
    "plt.ylabel('Feature')\n",
    "plt.title('Feature Importance in Random Forest Model')\n",
    "plt.show()\n"
   ]
  },
  {
   "cell_type": "markdown",
   "id": "ccf130be-d3d5-45b2-8161-b6560783c2b8",
   "metadata": {},
   "source": [
    "## Predicting Crop Yield Using Gradient Boosting Regressor"
   ]
  },
  {
   "cell_type": "markdown",
   "id": "a3628d38-1ea2-4e6e-8c7e-395cbe4afa3f",
   "metadata": {},
   "source": [
    "## Explanation\n",
    "- **Data Collection:** A simulated dataset is generated for soil moisture, soil nitrogen, temperature, humidity, rainfall, and crop type with 10,000 records.\n",
    "- **Data Processing:** The data is organized into a pandas DataFrame and split into training and testing sets.\n",
    "- **Model Development:** A Random Forest Regressor is trained to predict crop type based on the environmental factors. The model's performance is evaluated using the mean absolute error (MAE).\n",
    "- **Feature Importance Graph:** The feature importance graph shows the relative importance of each feature in predicting the crop type.\n",
    "- **Implementation:** A function recommend_resources takes environmental data as input and returns the recommended water and fertilizer usage based on the predicted crop type. This function can be integrated into a user-friendly platform for farmers.\n",
    "\n",
    "This example demonstrates how to build a system for predicting crop type and recommending resources, which can help farmers optimize their resources and plan their activities more effectively."
   ]
  },
  {
   "cell_type": "code",
   "execution_count": 8,
   "id": "9af102be-8e70-496f-a522-e35138c161f2",
   "metadata": {
    "tags": []
   },
   "outputs": [
    {
     "data": {
      "text/html": [
       "<div>\n",
       "<style scoped>\n",
       "    .dataframe tbody tr th:only-of-type {\n",
       "        vertical-align: middle;\n",
       "    }\n",
       "\n",
       "    .dataframe tbody tr th {\n",
       "        vertical-align: top;\n",
       "    }\n",
       "\n",
       "    .dataframe thead th {\n",
       "        text-align: right;\n",
       "    }\n",
       "</style>\n",
       "<table border=\"1\" class=\"dataframe\">\n",
       "  <thead>\n",
       "    <tr style=\"text-align: right;\">\n",
       "      <th></th>\n",
       "      <th>Soil_Moisture</th>\n",
       "      <th>Soil_Nitrogen</th>\n",
       "      <th>Temperature</th>\n",
       "      <th>Humidity</th>\n",
       "      <th>Rainfall</th>\n",
       "      <th>Crop_Yield</th>\n",
       "    </tr>\n",
       "  </thead>\n",
       "  <tbody>\n",
       "    <tr>\n",
       "      <th>0</th>\n",
       "      <td>21.236204</td>\n",
       "      <td>1.434102</td>\n",
       "      <td>29.599966</td>\n",
       "      <td>68.288674</td>\n",
       "      <td>5.978241</td>\n",
       "      <td>8.777893</td>\n",
       "    </tr>\n",
       "    <tr>\n",
       "      <th>1</th>\n",
       "      <td>38.521429</td>\n",
       "      <td>1.332280</td>\n",
       "      <td>18.690240</td>\n",
       "      <td>57.557547</td>\n",
       "      <td>1.896356</td>\n",
       "      <td>5.956136</td>\n",
       "    </tr>\n",
       "    <tr>\n",
       "      <th>2</th>\n",
       "      <td>31.959818</td>\n",
       "      <td>0.940385</td>\n",
       "      <td>21.932794</td>\n",
       "      <td>87.869911</td>\n",
       "      <td>2.527184</td>\n",
       "      <td>3.563725</td>\n",
       "    </tr>\n",
       "    <tr>\n",
       "      <th>3</th>\n",
       "      <td>27.959755</td>\n",
       "      <td>2.018167</td>\n",
       "      <td>28.265613</td>\n",
       "      <td>43.138707</td>\n",
       "      <td>3.613423</td>\n",
       "      <td>7.893134</td>\n",
       "    </tr>\n",
       "    <tr>\n",
       "      <th>4</th>\n",
       "      <td>14.680559</td>\n",
       "      <td>1.691560</td>\n",
       "      <td>24.641787</td>\n",
       "      <td>65.271385</td>\n",
       "      <td>4.073067</td>\n",
       "      <td>5.349425</td>\n",
       "    </tr>\n",
       "  </tbody>\n",
       "</table>\n",
       "</div>"
      ],
      "text/plain": [
       "   Soil_Moisture  Soil_Nitrogen  Temperature   Humidity  Rainfall  Crop_Yield\n",
       "0      21.236204       1.434102    29.599966  68.288674  5.978241    8.777893\n",
       "1      38.521429       1.332280    18.690240  57.557547  1.896356    5.956136\n",
       "2      31.959818       0.940385    21.932794  87.869911  2.527184    3.563725\n",
       "3      27.959755       2.018167    28.265613  43.138707  3.613423    7.893134\n",
       "4      14.680559       1.691560    24.641787  65.271385  4.073067    5.349425"
      ]
     },
     "execution_count": 8,
     "metadata": {},
     "output_type": "execute_result"
    }
   ],
   "source": [
    "import pandas as pd\n",
    "import numpy as np\n",
    "\n",
    "# Create a random dataset for soil health, weather, and crop yield with 10,000 records\n",
    "np.random.seed(42)  # For reproducibility\n",
    "\n",
    "data_size = 10000\n",
    "\n",
    "data = {\n",
    "    'Soil_Moisture': np.random.uniform(10, 40, data_size),  # Soil moisture percentage\n",
    "    'Soil_Nitrogen': np.random.uniform(0.5, 3.0, data_size),  # Nitrogen level in soil\n",
    "    'Temperature': np.random.uniform(15, 35, data_size),  # Temperature in Celsius\n",
    "    'Humidity': np.random.uniform(30, 90, data_size),  # Humidity percentage\n",
    "    'Rainfall': np.random.uniform(0, 20, data_size),  # Rainfall in mm\n",
    "    'Crop_Yield': np.random.uniform(2, 10, data_size)  # Crop yield in tons/ha\n",
    "}\n",
    "\n",
    "# Convert to DataFrame\n",
    "df = pd.DataFrame(data)\n",
    "\n",
    "# Display the first few rows of the dataset\n",
    "df.head(5)"
   ]
  },
  {
   "cell_type": "code",
   "execution_count": 9,
   "id": "2188c145-212e-439c-876f-351a60f35a5f",
   "metadata": {
    "tags": []
   },
   "outputs": [
    {
     "name": "stdout",
     "output_type": "stream",
     "text": [
      "Mean Absolute Error: 2.0067868510065034\n",
      "Predicted crop yield: 6.048961135487778 tons/ha\n"
     ]
    },
    {
     "name": "stderr",
     "output_type": "stream",
     "text": [
      "C:\\Users\\victo\\anaconda\\Lib\\site-packages\\sklearn\\base.py:439: UserWarning: X does not have valid feature names, but GradientBoostingRegressor was fitted with feature names\n",
      "  warnings.warn(\n"
     ]
    }
   ],
   "source": [
    "from sklearn.ensemble import GradientBoostingRegressor\n",
    "from sklearn.model_selection import train_test_split\n",
    "from sklearn.metrics import mean_absolute_error\n",
    "\n",
    "# Features and target variable\n",
    "features = df[['Soil_Moisture', 'Soil_Nitrogen', 'Temperature', 'Humidity', 'Rainfall']]\n",
    "target = df['Crop_Yield']\n",
    "\n",
    "# Split the data into training and testing sets\n",
    "X_train, X_test, y_train, y_test = train_test_split(features, target, test_size=0.2, random_state=42)\n",
    "\n",
    "# Train a Gradient Boosting model\n",
    "model = GradientBoostingRegressor(n_estimators=100, random_state=42)\n",
    "model.fit(X_train, y_train)\n",
    "\n",
    "# Predict on the test set\n",
    "predictions = model.predict(X_test)\n",
    "\n",
    "# Evaluate the model\n",
    "mae = mean_absolute_error(y_test, predictions)\n",
    "print(f'Mean Absolute Error: {mae}')\n",
    "\n",
    "# Function to predict crop yield\n",
    "def predict_yield(soil_moisture, soil_nitrogen, temperature, humidity, rainfall):\n",
    "    input_data = np.array([[soil_moisture, soil_nitrogen, temperature, humidity, rainfall]])\n",
    "    predicted_yield = model.predict(input_data)[0]\n",
    "    return predicted_yield\n",
    "\n",
    "# Example usage\n",
    "soil_moisture = 25.0\n",
    "soil_nitrogen = 2.0\n",
    "temperature = 20.0\n",
    "humidity = 60.0\n",
    "rainfall = 10.0\n",
    "\n",
    "predicted_yield = predict_yield(soil_moisture, soil_nitrogen, temperature, humidity, rainfall)\n",
    "print(f'Predicted crop yield: {predicted_yield} tons/ha')"
   ]
  },
  {
   "cell_type": "code",
   "execution_count": 18,
   "id": "5bd6ad2d-3c65-4889-ac5f-5a3c8ce0d6f1",
   "metadata": {
    "tags": []
   },
   "outputs": [
    {
     "data": {
      "image/png": "[encoded data removed]",
      "text/plain": [
       "<Figure size 1000x600 with 1 Axes>"
      ]
     },
     "metadata": {},
     "output_type": "display_data"
    }
   ],
   "source": [
    "# Plot feature importance\n",
    "feature_importances = model.feature_importances_\n",
    "features_names = features.columns\n",
    "\n",
    "plt.figure(figsize=(10, 6))\n",
    "plt.bar(features_names, feature_importances)\n",
    "plt.xlabel('Feature Importance')\n",
    "plt.ylabel('Feature')\n",
    "plt.title('Feature Importance in Gradient Boosting Regressor Model')\n",
    "plt.show()"
   ]
  },
  {
   "cell_type": "code",
   "execution_count": null,
   "id": "1e5bb441-26eb-4cf7-9b58-799041ca8e6f",
   "metadata": {},
   "outputs": [],
   "source": []
  }
 ],
 "metadata": {
  "kernelspec": {
   "display_name": "Python 3 (ipykernel)",
   "language": "python",
   "name": "python3"
  },
  "language_info": {
   "codemirror_mode": {
    "name": "ipython",
    "version": 3
   },
   "file_extension": ".py",
   "mimetype": "text/x-python",
   "name": "python",
   "nbconvert_exporter": "python",
   "pygments_lexer": "ipython3",
   "version": "3.11.7"
  }
 },
 "nbformat": 4,
 "nbformat_minor": 5
}
